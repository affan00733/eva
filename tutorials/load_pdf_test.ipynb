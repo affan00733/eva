{
 "cells": [
  {
   "attachments": {},
   "cell_type": "markdown",
   "id": "d53ef889",
   "metadata": {},
   "source": [
    "### Start EVA server\n",
    "\n"
   ]
  },
  {
   "cell_type": "code",
   "execution_count": 1,
   "id": "b6b7f61d",
   "metadata": {
    "execution": {
     "iopub.execute_input": "2023-05-09T03:38:09.732884Z",
     "iopub.status.busy": "2023-05-09T03:38:09.732320Z",
     "iopub.status.idle": "2023-05-09T03:38:28.843438Z",
     "shell.execute_reply": "2023-05-09T03:38:28.842038Z"
    }
   },
   "outputs": [],
   "source": [
    "from eva.server.db_api import connect\n",
    "import nest_asyncio\n",
    "nest_asyncio.apply()\n",
    "cursor = connect(host=\"127.0.0.1\", port=8803).cursor()"
   ]
  },
  {
   "attachments": {},
   "cell_type": "markdown",
   "id": "1d9c44d4",
   "metadata": {},
   "source": [
    "Load PDF Query"
   ]
  },
  {
   "cell_type": "code",
   "execution_count": 2,
   "id": "98061621",
   "metadata": {},
   "outputs": [
    {
     "name": "stdout",
     "output_type": "stream",
     "text": [
      "@status: ResponseStatus.SUCCESS\n",
      "@batch: \n",
      "                                      0\n",
      "0  Table Successfully dropped: pdfTest\n",
      "@query_time: 0.04659933299990371\n",
      "@status: ResponseStatus.SUCCESS\n",
      "@batch: \n",
      "                          PDF  Number of loaded frames\n",
      "0  tutorials/pdf_sample1.pdf                        1\n",
      "@query_time: 2.4558351670020784\n"
     ]
    }
   ],
   "source": [
    "cursor.execute('DROP TABLE IF EXISTS pdfTest')\n",
    "response = cursor.fetch_all()\n",
    "response.as_df()\n",
    "cursor.execute(\"LOAD PDF 'tutorials/pdf_sample1.pdf' INTO pdfTest\")\n",
    "response = cursor.fetch_all()\n",
    "response.as_df()"
   ]
  },
  {
   "cell_type": "code",
   "execution_count": 3,
   "id": "f2674110",
   "metadata": {},
   "outputs": [
    {
     "data": {
      "text/html": [
       "<div>\n",
       "<style scoped>\n",
       "    .dataframe tbody tr th:only-of-type {\n",
       "        vertical-align: middle;\n",
       "    }\n",
       "\n",
       "    .dataframe tbody tr th {\n",
       "        vertical-align: top;\n",
       "    }\n",
       "\n",
       "    .dataframe thead th {\n",
       "        text-align: right;\n",
       "    }\n",
       "</style>\n",
       "<table border=\"1\" class=\"dataframe\">\n",
       "  <thead>\n",
       "    <tr style=\"text-align: right;\">\n",
       "      <th></th>\n",
       "      <th>pdftest._row_id</th>\n",
       "      <th>pdftest.id</th>\n",
       "      <th>pdftest.data</th>\n",
       "    </tr>\n",
       "  </thead>\n",
       "  <tbody>\n",
       "    <tr>\n",
       "      <th>0</th>\n",
       "      <td>1</td>\n",
       "      <td>tutorials/pdf_sample1.pdf</td>\n",
       "      <td>HAEMETOLOGY       STUDY OF BLOOD  \\nDEFINATIO...</td>\n",
       "    </tr>\n",
       "  </tbody>\n",
       "</table>\n",
       "</div>"
      ],
      "text/plain": [
       "   pdftest._row_id                 pdftest.id   \n",
       "0                1  tutorials/pdf_sample1.pdf  \\\n",
       "\n",
       "                                        pdftest.data  \n",
       "0  HAEMETOLOGY       STUDY OF BLOOD  \\nDEFINATIO...  "
      ]
     },
     "execution_count": 3,
     "metadata": {},
     "output_type": "execute_result"
    }
   ],
   "source": [
    "cursor.execute('select * from pdfTest')\n",
    "response = cursor.fetch_all()\n",
    "response.as_df()"
   ]
  }
 ],
 "metadata": {
  "kernelspec": {
   "display_name": "Python 3 (ipykernel)",
   "language": "python",
   "name": "python3"
  },
  "language_info": {
   "codemirror_mode": {
    "name": "ipython",
    "version": 3
   },
   "file_extension": ".py",
   "mimetype": "text/x-python",
   "name": "python",
   "nbconvert_exporter": "python",
   "pygments_lexer": "ipython3",
   "version": "3.10.9"
  },
  "varInspector": {
   "cols": {
    "lenName": 16,
    "lenType": 16,
    "lenVar": 40
   },
   "kernels_config": {
    "python": {
     "delete_cmd_postfix": "",
     "delete_cmd_prefix": "del ",
     "library": "var_list.py",
     "varRefreshCmd": "print(var_dic_list())"
    },
    "r": {
     "delete_cmd_postfix": ") ",
     "delete_cmd_prefix": "rm(",
     "library": "var_list.r",
     "varRefreshCmd": "cat(var_dic_list()) "
    }
   },
   "types_to_exclude": [
    "module",
    "function",
    "builtin_function_or_method",
    "instance",
    "_Feature"
   ],
   "window_display": false
  },
  "vscode": {
   "interpreter": {
    "hash": "292337e8e9747092192f4a1ef18b0951099c869b0f06eb7241460e1768f24923"
   }
  }
 },
 "nbformat": 4,
 "nbformat_minor": 5
}
